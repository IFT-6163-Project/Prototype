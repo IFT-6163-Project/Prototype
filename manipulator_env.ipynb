{
 "cells": [
  {
   "cell_type": "code",
   "execution_count": 28,
   "id": "initial_id",
   "metadata": {
    "collapsed": true,
    "ExecuteTime": {
     "end_time": "2024-01-28T16:11:37.452254334Z",
     "start_time": "2024-01-28T16:11:37.400463699Z"
    }
   },
   "outputs": [],
   "source": [
    "import time\n",
    "from tensordict import TensorDict\n",
    "from torchrl.envs.libs.dm_control import DMControlEnv\n",
    "from torchrl.envs.transforms import ToTensorImage, TransformedEnv\n",
    "from matplotlib import pyplot as plt\n",
    "from pathlib import Path\n",
    "from tqdm import tqdm\n",
    "from imageio.v3 import imread\n",
    "from imageio import get_writer"
   ]
  },
  {
   "cell_type": "code",
   "outputs": [],
   "source": [
    "def render_env(env_info: TensorDict, show_fig: bool = True, save_fig: bool = False, save_dir: Path = Path(\"outputs\")):\n",
    "    env_pixels = env_info.get(\"pixels\").permute(1,2,0).numpy()\n",
    "    reward = env_info.get('reward').item()\n",
    "    \n",
    "    fig, ax = plt.subplots()\n",
    "    \n",
    "    ax.set_title(f\"Reward: {reward:.2f}\")\n",
    "    ax.axis('off')\n",
    "    ax.imshow(env_pixels)\n",
    "    \n",
    "    if save_fig:\n",
    "        save_dir.mkdir(parents=True, exist_ok=True)\n",
    "        \n",
    "        fig.set_size_inches(env_pixels.shape[1] / 100.0, env_pixels.shape[0] / 100.0)\n",
    "        \n",
    "        fig.savefig(save_dir / f\"{time.time()}.png\", bbox_inches='tight', pad_inches=0)\n",
    "    \n",
    "    if show_fig:\n",
    "        plt.show()\n",
    "    \n",
    "    plt.close(fig)"
   ],
   "metadata": {
    "collapsed": false,
    "ExecuteTime": {
     "end_time": "2024-01-28T16:11:37.876583621Z",
     "start_time": "2024-01-28T16:11:37.818145890Z"
    }
   },
   "id": "e82b041e07bdff81",
   "execution_count": 29
  },
  {
   "cell_type": "code",
   "outputs": [],
   "source": [
    "def create_mp4(save_dir: Path = Path(\"outputs\"), output_path: Path = Path(\"outputs\"), fps=2):\n",
    "    image_paths = save_dir.glob(\"*.png\")\n",
    "    images = [imread(str(path)) for path in image_paths]\n",
    "    \n",
    "    if len(images) == 0:\n",
    "        print(f\"No images found in {save_dir}, skipping mp4 creation!\")\n",
    "        return\n",
    "    \n",
    "    output_path = output_path / f\"{time.time()}.mp4\"\n",
    "\n",
    "    writer = get_writer(output_path, fps=fps)\n",
    "\n",
    "    for img in images:\n",
    "        writer.append_data(img)\n",
    "\n",
    "    writer.close()"
   ],
   "metadata": {
    "collapsed": false,
    "ExecuteTime": {
     "end_time": "2024-01-28T16:11:38.496698153Z",
     "start_time": "2024-01-28T16:11:38.438799786Z"
    }
   },
   "id": "b7bc167eab89a69d",
   "execution_count": 30
  },
  {
   "cell_type": "code",
   "outputs": [
    {
     "name": "stderr",
     "output_type": "stream",
     "text": [
      "100%|██████████| 10/10 [00:02<00:00,  3.82it/s]\n"
     ]
    }
   ],
   "source": [
    "env = DMControlEnv(env_name=\"manipulator\",\n",
    "                       task_name=\"insert_ball\",\n",
    "                       from_pixels=True,\n",
    "                       pixels_only=True)\n",
    "env = TransformedEnv(env)\n",
    "env.append_transform(ToTensorImage())\n",
    "\n",
    "env_info = env.reset()\n",
    "\n",
    "for i in tqdm(range(10)):\n",
    "    env_info = env.rand_step()\n",
    "    render_env(env_info['next'], show_fig=False, save_fig=True)\n",
    "\n",
    "#create_mp4()\n",
    "\n",
    "env.close()"
   ],
   "metadata": {
    "collapsed": false,
    "ExecuteTime": {
     "end_time": "2024-01-28T16:15:22.842161484Z",
     "start_time": "2024-01-28T16:15:18.935918828Z"
    }
   },
   "id": "c2ffa67bb06c80c8",
   "execution_count": 34
  },
  {
   "cell_type": "code",
   "outputs": [],
   "source": [],
   "metadata": {
    "collapsed": false
   },
   "id": "3fae505d82ecb363"
  }
 ],
 "metadata": {
  "kernelspec": {
   "display_name": "Python 3",
   "language": "python",
   "name": "python3"
  },
  "language_info": {
   "codemirror_mode": {
    "name": "ipython",
    "version": 2
   },
   "file_extension": ".py",
   "mimetype": "text/x-python",
   "name": "python",
   "nbconvert_exporter": "python",
   "pygments_lexer": "ipython2",
   "version": "2.7.6"
  }
 },
 "nbformat": 4,
 "nbformat_minor": 5
}
